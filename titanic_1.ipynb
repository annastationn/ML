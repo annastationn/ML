{
 "cells": [
  {
   "cell_type": "code",
   "id": "initial_id",
   "metadata": {
    "collapsed": true,
    "ExecuteTime": {
     "end_time": "2025-03-12T12:53:04.774065Z",
     "start_time": "2025-03-12T12:53:04.768080Z"
    }
   },
   "source": [
    "import pandas as pd\n",
    "from paths_titanic import get_project_path\n",
    "from sklearn.model_selection import train_test_split\n",
    "from sklearn.preprocessing import MinMaxScaler\n",
    "\n",
    "from sklearn.preprocessing import LabelEncoder\n",
    "\n",
    "from train import fit_model\n",
    "from metric import metric_model\n",
    "\n",
    "from sklearn.linear_model import LogisticRegression\n",
    "from sklearn.neighbors import KNeighborsClassifier\n",
    "from sklearn.ensemble import RandomForestClassifier\n",
    "from sklearn.svm import SVC\n",
    "from sklearn.ensemble import GradientBoostingClassifier\n",
    "from xgboost import XGBClassifier\n",
    "from catboost import CatBoostClassifier"
   ],
   "outputs": [],
   "execution_count": 7
  },
  {
   "metadata": {
    "ExecuteTime": {
     "end_time": "2025-03-12T12:52:34.951335Z",
     "start_time": "2025-03-12T12:52:34.944704Z"
    }
   },
   "cell_type": "code",
   "source": [
    "base_path = get_project_path()\n",
    "df = pd.read_csv('titanic.csv')"
   ],
   "id": "c890818ffc33c368",
   "outputs": [],
   "execution_count": 2
  },
  {
   "metadata": {
    "ExecuteTime": {
     "end_time": "2025-03-12T12:52:35.369511Z",
     "start_time": "2025-03-12T12:52:35.359114Z"
    }
   },
   "cell_type": "code",
   "source": [
    "df[\"fam_size\"] = df[\"SibSp\"] + df[\"Parch\"]\n",
    "df[\"Sex\"] = LabelEncoder().fit_transform(df['Sex'])\n",
    "df[\"Embarked\"] = LabelEncoder().fit_transform(df['Embarked'])\n",
    "\n",
    "titles = (\"Capt.\",\"Col.\",\"Major.\",\"Sir.\",\"Lady.\",\"Rev.\",\"Dr.\",\"Don.\",\"Jonkheer.\",\"Countess.\",\"Mrs.\",\"Ms.\",\"Mr.\",\"Mme.\",\"Mlle.\",\"Miss.\",\"Master.\")\n",
    "\n",
    "titled_names = []\n",
    "for name in df.Name:\n",
    "    for title in titles:\n",
    "        if title in name.split(' '):\n",
    "            titled_names.append(title)\n",
    "            break\n",
    "\n",
    "\n",
    "df.insert(12, 'Title', titled_names)\n",
    "\n",
    "df = df.drop(['Cabin', 'Name', 'Ticket'], axis=1 )\n",
    "df[\"Title\"] = LabelEncoder().fit_transform(df['Title'])\n",
    "df = df.fillna(df.mean())"
   ],
   "id": "53579b2db64788eb",
   "outputs": [],
   "execution_count": 3
  },
  {
   "metadata": {
    "ExecuteTime": {
     "end_time": "2025-03-12T12:52:36.111510Z",
     "start_time": "2025-03-12T12:52:36.084284Z"
    }
   },
   "cell_type": "code",
   "source": [
    "X = df.drop('Survived', axis = 1)\n",
    "survived = df['Survived']\n",
    "X_train, X_test, survived_train, survived_test = train_test_split(X, survived, test_size=0.2, random_state=500, stratify=df[\"Survived\"])\n",
    "\n",
    "scaler = MinMaxScaler()\n",
    "X_train_normal = scaler.fit_transform(X_train)\n",
    "X_test_normal = scaler.transform(X_test)"
   ],
   "id": "e13de00b5938c7a7",
   "outputs": [],
   "execution_count": 4
  },
  {
   "metadata": {
    "ExecuteTime": {
     "end_time": "2025-03-12T12:52:37.317692Z",
     "start_time": "2025-03-12T12:52:37.308337Z"
    }
   },
   "cell_type": "code",
   "source": [
    "models ={\n",
    "    'LR': LogisticRegression(solver='lbfgs', max_iter=1000),\n",
    "    'KNN': KNeighborsClassifier(),\n",
    "    'RF': RandomForestClassifier(),\n",
    "    'SVC': SVC(),\n",
    "    'GB': GradientBoostingClassifier(),\n",
    "    'XGB': XGBClassifier(subsample=1, n_estimators=100, colsample_bytree=1, min_child_weight=1, max_depth=6, learning_rate=0.3),\n",
    "    'CB': CatBoostClassifier(iterations=1000, learning_rate=0.3, depth=6, verbose=0)\n",
    "}"
   ],
   "id": "298f2b157eddf660",
   "outputs": [],
   "execution_count": 5
  },
  {
   "metadata": {
    "ExecuteTime": {
     "end_time": "2025-03-12T12:53:11.663793Z",
     "start_time": "2025-03-12T12:53:10.440695Z"
    }
   },
   "cell_type": "code",
   "source": [
    "for name, model in models.items():\n",
    "    trained_model = fit_model(model, X_train_normal, survived_train)\n",
    "    f1 = metric_model(trained_model,X_test_normal, survived_test)\n",
    "    print(f'F1 for {name}: {f1 * 100:.2f}%')"
   ],
   "id": "446bbb3d8fac8fe9",
   "outputs": [
    {
     "name": "stdout",
     "output_type": "stream",
     "text": [
      "F1 for LR: 83.43%\n",
      "F1 for KNN: 82.21%\n",
      "F1 for RF: 82.75%\n",
      "F1 for SVC: 85.47%\n",
      "F1 for GB: 83.86%\n",
      "F1 for XGB: 83.24%\n",
      "F1 for CB: 81.67%\n"
     ]
    }
   ],
   "execution_count": 8
  }
 ],
 "metadata": {
  "kernelspec": {
   "display_name": "Python 3",
   "language": "python",
   "name": "python3"
  },
  "language_info": {
   "codemirror_mode": {
    "name": "ipython",
    "version": 2
   },
   "file_extension": ".py",
   "mimetype": "text/x-python",
   "name": "python",
   "nbconvert_exporter": "python",
   "pygments_lexer": "ipython2",
   "version": "2.7.6"
  }
 },
 "nbformat": 4,
 "nbformat_minor": 5
}
